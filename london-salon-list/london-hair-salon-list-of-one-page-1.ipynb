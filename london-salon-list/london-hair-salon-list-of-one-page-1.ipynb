{
 "cells": [
  {
   "cell_type": "markdown",
   "metadata": {},
   "source": [
    "# london-hair-salon-list-of-one-page\n",
    "\n",
    "In this project we will take following steps\n",
    "- will save `html` page in local\n",
    "- open that page and parse it with `BeautifulSoup`\n",
    "- find the salon names and their in-page link\n",
    "- then will create signature of our functions\n",
    "- create a function to get salon name\n",
    "- 2nd function to get salon in-page link\n",
    "- then we will create a dictionary to store details of both `name` and `url` function\n",
    "- will create a `DataFrame` to show dictionary's items\n",
    "- finally, a scrape function will also create to scrape the details and convert them into a `DataFrame`.\n"
   ]
  },
  {
   "cell_type": "code",
   "execution_count": 1,
   "metadata": {},
   "outputs": [],
   "source": [
    "! pip install requests --upgrade --quiet\n",
    "! pip install bs4 --upgrade --quiet\n",
    "! pip install pandas --upgrade --quiet"
   ]
  },
  {
   "cell_type": "code",
   "execution_count": 2,
   "metadata": {},
   "outputs": [],
   "source": [
    "import requests\n",
    "from bs4 import BeautifulSoup\n",
    "from random import randint\n",
    "from time import sleep  \n",
    "import pandas as pd"
   ]
  },
  {
   "cell_type": "code",
   "execution_count": 3,
   "metadata": {},
   "outputs": [],
   "source": [
    "# #save the webpage in local\n",
    "# with open('salon1.html', 'wb+') as file:\n",
    "#     file.write(response.content)"
   ]
  },
  {
   "cell_type": "code",
   "execution_count": 4,
   "metadata": {},
   "outputs": [],
   "source": [
    "# read the saved page\n",
    "with open('salon1.html', 'rb') as file:\n",
    "    soup = BeautifulSoup(file.read(), 'lxml')\n",
    "    \n",
    "# page is on below url   \n",
    "# https://hub.binder.jovian.ai/user/vikasrajoria11ece/api-git-d3d258e-5e9b09c7de615_9-sxkw0sqx/view/salon1.html"
   ]
  },
  {
   "cell_type": "code",
   "execution_count": 5,
   "metadata": {},
   "outputs": [
    {
     "data": {
      "text/plain": [
       "'Best salon Near Me in London'"
      ]
     },
     "execution_count": 5,
     "metadata": {},
     "output_type": "execute_result"
    }
   ],
   "source": [
    "heading = soup.find('span', class_='raw__09f24__T4Ezm')\n",
    "heading.text"
   ]
  },
  {
   "cell_type": "code",
   "execution_count": 6,
   "metadata": {},
   "outputs": [],
   "source": [
    "name_h3_tag = soup.find_all('h3', class_='css-1agk4wl')"
   ]
  },
  {
   "cell_type": "code",
   "execution_count": 7,
   "metadata": {},
   "outputs": [
    {
     "data": {
      "text/plain": [
       "range(0, 10)"
      ]
     },
     "execution_count": 7,
     "metadata": {},
     "output_type": "execute_result"
    }
   ],
   "source": [
    "range(len(name_h3_tag))"
   ]
  },
  {
   "cell_type": "code",
   "execution_count": 8,
   "metadata": {},
   "outputs": [
    {
     "data": {
      "text/plain": [
       "'Hayato London'"
      ]
     },
     "execution_count": 8,
     "metadata": {},
     "output_type": "execute_result"
    }
   ],
   "source": [
    "salon_name =name_h3_tag[0].find('a').text\n",
    "salon_name"
   ]
  },
  {
   "cell_type": "code",
   "execution_count": 9,
   "metadata": {},
   "outputs": [
    {
     "data": {
      "text/plain": [
       "'/biz/hayato-london-london?osq=salon'"
      ]
     },
     "execution_count": 9,
     "metadata": {},
     "output_type": "execute_result"
    }
   ],
   "source": [
    "link = name_h3_tag[0].find('a')['href']\n",
    "link"
   ]
  },
  {
   "cell_type": "code",
   "execution_count": 10,
   "metadata": {},
   "outputs": [
    {
     "data": {
      "text/plain": [
       "'https://www.yelp.co.uk/biz/hayato-london-london?osq=salon'"
      ]
     },
     "execution_count": 10,
     "metadata": {},
     "output_type": "execute_result"
    }
   ],
   "source": [
    "# get urls\n",
    "base_url = 'https://www.yelp.co.uk'\n",
    "salon_link = base_url + link\n",
    "salon_link"
   ]
  },
  {
   "cell_type": "code",
   "execution_count": 11,
   "metadata": {},
   "outputs": [],
   "source": [
    "salons_name = []"
   ]
  },
  {
   "cell_type": "code",
   "execution_count": 12,
   "metadata": {},
   "outputs": [],
   "source": [
    "for i in range(len(name_h3_tag)):\n",
    "    salons_name.append(name_h3_tag[i].find('a').text)"
   ]
  },
  {
   "cell_type": "code",
   "execution_count": 13,
   "metadata": {},
   "outputs": [],
   "source": [
    "# salons_name"
   ]
  },
  {
   "cell_type": "code",
   "execution_count": 14,
   "metadata": {},
   "outputs": [],
   "source": [
    "yelp_salons_link = []"
   ]
  },
  {
   "cell_type": "code",
   "execution_count": 15,
   "metadata": {},
   "outputs": [],
   "source": [
    "for i in range(len(name_h3_tag)):\n",
    "    link = name_h3_tag[i].find('a')['href']\n",
    "    base_url = 'https://www.yelp.co.uk'\n",
    "    full_link = base_url + link\n",
    "    yelp_salons_link.append(full_link)"
   ]
  },
  {
   "cell_type": "code",
   "execution_count": 16,
   "metadata": {},
   "outputs": [],
   "source": [
    "# yelp_salons_link"
   ]
  },
  {
   "cell_type": "code",
   "execution_count": 17,
   "metadata": {},
   "outputs": [],
   "source": [
    "name_link_dict = {\n",
    "    'yelp_salon_name':salons_name,\n",
    "    'yelp_salon_url':yelp_salons_link\n",
    "}"
   ]
  },
  {
   "cell_type": "code",
   "execution_count": 18,
   "metadata": {},
   "outputs": [],
   "source": [
    "# name_link_dict"
   ]
  },
  {
   "cell_type": "code",
   "execution_count": 19,
   "metadata": {},
   "outputs": [],
   "source": [
    "# pd.DataFrame(name_link_dict)"
   ]
  },
  {
   "cell_type": "code",
   "execution_count": 20,
   "metadata": {},
   "outputs": [],
   "source": [
    "def get_yelp_salon_page():\n",
    "    # read the saved page\n",
    "    with open('salon1.html', 'rb') as file:\n",
    "        soup = BeautifulSoup(file.read(), 'lxml')\n",
    "    return soup       \n",
    "    "
   ]
  },
  {
   "cell_type": "code",
   "execution_count": 21,
   "metadata": {},
   "outputs": [],
   "source": [
    "# get_yelp_salon_page()"
   ]
  },
  {
   "cell_type": "code",
   "execution_count": 22,
   "metadata": {},
   "outputs": [],
   "source": [
    "def get_yelp_salon_name(soup):\n",
    "    name_h3_tag = soup.find_all('h3', class_='css-1agk4wl')\n",
    "    salons_name = []\n",
    "    for i in range(len(name_h3_tag)):\n",
    "        salon_name =name_h3_tag[i].find('a').text\n",
    "        salons_name.append(salon_name)\n",
    "    return salons_name"
   ]
  },
  {
   "cell_type": "code",
   "execution_count": 23,
   "metadata": {},
   "outputs": [],
   "source": [
    "# get_yelp_salon_name(soup)"
   ]
  },
  {
   "cell_type": "code",
   "execution_count": 24,
   "metadata": {},
   "outputs": [],
   "source": [
    "def get_yelp_salon_link(soup):\n",
    "    name_h3_tag = soup.find_all('h3', class_='css-1agk4wl')\n",
    "    yelp_salons_link = []\n",
    "    for i in range(len(name_h3_tag)):\n",
    "        link = name_h3_tag[i].find('a')['href']\n",
    "        base_url = 'https://www.yelp.co.uk'\n",
    "        full_link = base_url + link\n",
    "        yelp_salons_link.append(full_link)\n",
    "    return yelp_salons_link"
   ]
  },
  {
   "cell_type": "code",
   "execution_count": 25,
   "metadata": {},
   "outputs": [
    {
     "data": {
      "text/plain": [
       "10"
      ]
     },
     "execution_count": 25,
     "metadata": {},
     "output_type": "execute_result"
    }
   ],
   "source": [
    "len(get_yelp_salon_link(soup))"
   ]
  },
  {
   "cell_type": "code",
   "execution_count": 26,
   "metadata": {},
   "outputs": [],
   "source": [
    "def scrape_details():\n",
    "    # read the saved page\n",
    "    with open('salon1.html', 'rb') as file:\n",
    "        soup = BeautifulSoup(file.read(), 'lxml')\n",
    "    scrape_name_link = {\n",
    "        'Name':salons_name,\n",
    "        'Url':yelp_salons_link\n",
    "    }\n",
    "    return pd.DataFrame(scrape_name_link)\n",
    "    "
   ]
  },
  {
   "cell_type": "code",
   "execution_count": 27,
   "metadata": {},
   "outputs": [
    {
     "data": {
      "text/html": [
       "<div>\n",
       "<style scoped>\n",
       "    .dataframe tbody tr th:only-of-type {\n",
       "        vertical-align: middle;\n",
       "    }\n",
       "\n",
       "    .dataframe tbody tr th {\n",
       "        vertical-align: top;\n",
       "    }\n",
       "\n",
       "    .dataframe thead th {\n",
       "        text-align: right;\n",
       "    }\n",
       "</style>\n",
       "<table border=\"1\" class=\"dataframe\">\n",
       "  <thead>\n",
       "    <tr style=\"text-align: right;\">\n",
       "      <th></th>\n",
       "      <th>Name</th>\n",
       "      <th>Url</th>\n",
       "    </tr>\n",
       "  </thead>\n",
       "  <tbody>\n",
       "    <tr>\n",
       "      <th>0</th>\n",
       "      <td>Hayato London</td>\n",
       "      <td>https://www.yelp.co.uk/biz/hayato-london-londo...</td>\n",
       "    </tr>\n",
       "    <tr>\n",
       "      <th>1</th>\n",
       "      <td>Jubilee Hair Salon</td>\n",
       "      <td>https://www.yelp.co.uk/biz/jubilee-hair-salon-...</td>\n",
       "    </tr>\n",
       "    <tr>\n",
       "      <th>2</th>\n",
       "      <td>Feel Hairdressers</td>\n",
       "      <td>https://www.yelp.co.uk/biz/feel-hairdressers-l...</td>\n",
       "    </tr>\n",
       "    <tr>\n",
       "      <th>3</th>\n",
       "      <td>TOKITO Hair</td>\n",
       "      <td>https://www.yelp.co.uk/biz/tokito-hair-london?...</td>\n",
       "    </tr>\n",
       "    <tr>\n",
       "      <th>4</th>\n",
       "      <td>My Snug Room</td>\n",
       "      <td>https://www.yelp.co.uk/biz/my-snug-room-london...</td>\n",
       "    </tr>\n",
       "    <tr>\n",
       "      <th>5</th>\n",
       "      <td>Eleven Hair</td>\n",
       "      <td>https://www.yelp.co.uk/biz/eleven-hair-london-...</td>\n",
       "    </tr>\n",
       "    <tr>\n",
       "      <th>6</th>\n",
       "      <td>Hiro Miyoshi</td>\n",
       "      <td>https://www.yelp.co.uk/biz/hiro-miyoshi-london...</td>\n",
       "    </tr>\n",
       "    <tr>\n",
       "      <th>7</th>\n",
       "      <td>Percy &amp; Reed</td>\n",
       "      <td>https://www.yelp.co.uk/biz/percy-and-reed-lond...</td>\n",
       "    </tr>\n",
       "    <tr>\n",
       "      <th>8</th>\n",
       "      <td>G&amp;G London</td>\n",
       "      <td>https://www.yelp.co.uk/biz/g-and-g-london-lond...</td>\n",
       "    </tr>\n",
       "    <tr>\n",
       "      <th>9</th>\n",
       "      <td>Hair by Fairy</td>\n",
       "      <td>https://www.yelp.co.uk/biz/hair-by-fairy-londo...</td>\n",
       "    </tr>\n",
       "  </tbody>\n",
       "</table>\n",
       "</div>"
      ],
      "text/plain": [
       "                 Name                                                Url\n",
       "0       Hayato London  https://www.yelp.co.uk/biz/hayato-london-londo...\n",
       "1  Jubilee Hair Salon  https://www.yelp.co.uk/biz/jubilee-hair-salon-...\n",
       "2   Feel Hairdressers  https://www.yelp.co.uk/biz/feel-hairdressers-l...\n",
       "3         TOKITO Hair  https://www.yelp.co.uk/biz/tokito-hair-london?...\n",
       "4        My Snug Room  https://www.yelp.co.uk/biz/my-snug-room-london...\n",
       "5         Eleven Hair  https://www.yelp.co.uk/biz/eleven-hair-london-...\n",
       "6        Hiro Miyoshi  https://www.yelp.co.uk/biz/hiro-miyoshi-london...\n",
       "7        Percy & Reed  https://www.yelp.co.uk/biz/percy-and-reed-lond...\n",
       "8          G&G London  https://www.yelp.co.uk/biz/g-and-g-london-lond...\n",
       "9       Hair by Fairy  https://www.yelp.co.uk/biz/hair-by-fairy-londo..."
      ]
     },
     "execution_count": 27,
     "metadata": {},
     "output_type": "execute_result"
    }
   ],
   "source": [
    "scrape_details()"
   ]
  },
  {
   "cell_type": "markdown",
   "metadata": {},
   "source": [
    "# References\n",
    "\n",
    "- source :- https://www.yelp.co.uk/search?find_desc=salon&find_loc=London&start"
   ]
  },
  {
   "cell_type": "markdown",
   "metadata": {},
   "source": [
    "# Save the code on jovian"
   ]
  },
  {
   "cell_type": "code",
   "execution_count": 28,
   "metadata": {},
   "outputs": [],
   "source": [
    "!pip install jovian --upgrade --quiet"
   ]
  },
  {
   "cell_type": "code",
   "execution_count": 29,
   "metadata": {},
   "outputs": [],
   "source": [
    "import jovian"
   ]
  },
  {
   "cell_type": "code",
   "execution_count": null,
   "metadata": {},
   "outputs": [
    {
     "data": {
      "application/javascript": [
       "window.require && require([\"base/js/namespace\"],function(Jupyter){Jupyter.notebook.save_checkpoint()})"
      ],
      "text/plain": [
       "<IPython.core.display.Javascript object>"
      ]
     },
     "metadata": {},
     "output_type": "display_data"
    }
   ],
   "source": [
    "# Execute this to save new versions of the notebook\n",
    "jovian.commit(project=\"london-hair-salon-list-of-one-page\")"
   ]
  },
  {
   "cell_type": "code",
   "execution_count": null,
   "metadata": {},
   "outputs": [],
   "source": []
  }
 ],
 "metadata": {
  "language_info": {
   "codemirror_mode": {
    "name": "ipython",
    "version": 3
   },
   "file_extension": ".py",
   "mimetype": "text/x-python",
   "name": "python",
   "nbconvert_exporter": "python",
   "pygments_lexer": "ipython3",
   "version": "3.9.6"
  }
 },
 "nbformat": 4,
 "nbformat_minor": 2
}